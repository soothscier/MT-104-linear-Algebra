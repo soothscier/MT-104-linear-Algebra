{
 "cells": [
  {
   "cell_type": "code",
   "execution_count": 10,
   "metadata": {},
   "outputs": [
    {
     "name": "stdout",
     "output_type": "stream",
     "text": [
      "[[1, 0, 0], [0, 1, 0], [0, 0, 1]]\n",
      "True\n"
     ]
    }
   ],
   "source": [
    "import numpy\n",
    "\n",
    "def nonZero(a):\n",
    "    b=[]\n",
    "    pcount = 0\n",
    "\n",
    "    for i in range(len(a)):\n",
    "        pcount = 0\n",
    "        for j in range(len(a[i])):\n",
    "            if a[i][j]==0:\n",
    "                pcount = pcount +1\n",
    "                if pcount == len(a[i]):\n",
    "                    b.append((pcount, a[i]))\n",
    "            else:\n",
    "                b.append((pcount, a[i]))\n",
    "                break\n",
    "                \n",
    "    b = sorted(b)\n",
    "    c = []\n",
    "\n",
    "    for i in range(len(b)):\n",
    "        c.append(b[i][1])\n",
    "    return c\n",
    "\n",
    "\n",
    "def reduced(a):\n",
    "    a = nonZero(a)\n",
    "    temp = 0\n",
    "    \n",
    "    for i in range(len(a)):\n",
    "        \n",
    "        for j in range(len(a[i])):\n",
    "            \n",
    "            if not(a[i][j] == 0):\n",
    "                a[i] = [x / a[i][j] for x in a[i]]\n",
    "                a = rowElimination(a, a[i], j)\n",
    "                \n",
    "                break\n",
    "    \n",
    "    for i in range(len(a)):\n",
    "        for j in range(len(a[i])):\n",
    "            if (a[i][j] == -0.0 or a[i][j]==0.0 or a[i][j] == 1.0 or a[i][j] == -1.0):\n",
    "                a[i][j] = a[i][j] * a[i][j]\n",
    "                a[i][j] = int(a[i][j])\n",
    "                \n",
    "    \n",
    "    return a\n",
    "\n",
    "\n",
    "def rowElimination(a, indexArr, ind): #ind = j\n",
    "    \n",
    "    tempArr = numpy.array(indexArr)\n",
    "    tempArr2 = 0\n",
    "    \n",
    "    for i in range(len(a)):\n",
    "        if a[i] == indexArr:\n",
    "            continue\n",
    "        \n",
    "        else:\n",
    "            for j in range(len(a)):\n",
    "                tempArr = numpy.array(indexArr)\n",
    "                \n",
    "                if a[j] == indexArr:\n",
    "                    continue\n",
    "                    \n",
    "                tempArr = tempArr * a[i][ind]           \n",
    "                for k in range(len(a[i])):\n",
    "                    a[i][k] = tempArr[k] - a[i][k]\n",
    "    \n",
    "    return a\n",
    "\n",
    "def linearDependance(a, row, col):\n",
    "    if len(a[0]) > len(a):\n",
    "        return False\n",
    "    else:\n",
    "        a = reduced(a)\n",
    "        for i in range(len(a)):\n",
    "            if sum(a[i]) != 1:\n",
    "                return False\n",
    "        return True\n",
    "\n",
    "matrix = []\n",
    "in_ = open('in.txt','r')\n",
    "output=open('out.txt','a')\n",
    "tmatrix = int(in_.readline())\n",
    "for m in range(tmatrix):\n",
    "    del matrix[:]\n",
    "    row = int(in_.readline())\n",
    "    col = int(in_.readline())\n",
    "    for r in range(row):\n",
    "        matrix.append(list(map(int,in_.readline().strip().split())))\n",
    "    #print(matrix)\n",
    "\n",
    "\n",
    "\n",
    "    if(linearDependance(matrix,row,col)):\n",
    "        output.write('True\\n')\n",
    "    else:\n",
    "        output.write('False\\n')\n",
    "in_.close()\n",
    "output.close()\n",
    "\n",
    "\n",
    "a = [\n",
    "    [1,2,3],\n",
    "    [4,5,6],\n",
    "    [7,8,0]\n",
    "]\n",
    "\n",
    "print(reduced(a))\n",
    "\n",
    "print(linearDependance(a,3,3))"
   ]
  },
  {
   "cell_type": "code",
   "execution_count": 32,
   "metadata": {},
   "outputs": [
    {
     "data": {
      "text/plain": [
       "0.0"
      ]
     },
     "execution_count": 32,
     "metadata": {},
     "output_type": "execute_result"
    }
   ],
   "source": []
  },
  {
   "cell_type": "code",
   "execution_count": null,
   "metadata": {},
   "outputs": [],
   "source": []
  },
  {
   "cell_type": "code",
   "execution_count": null,
   "metadata": {},
   "outputs": [],
   "source": []
  }
 ],
 "metadata": {
  "kernelspec": {
   "display_name": "Python 3",
   "language": "python",
   "name": "python3"
  },
  "language_info": {
   "codemirror_mode": {
    "name": "ipython",
    "version": 3
   },
   "file_extension": ".py",
   "mimetype": "text/x-python",
   "name": "python",
   "nbconvert_exporter": "python",
   "pygments_lexer": "ipython3",
   "version": "3.6.5"
  }
 },
 "nbformat": 4,
 "nbformat_minor": 2
}
